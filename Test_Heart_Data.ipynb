{
 "cells": [
  {
   "cell_type": "markdown",
   "metadata": {},
   "source": [
    "# Download data"
   ]
  },
  {
   "cell_type": "code",
   "execution_count": null,
   "metadata": {},
   "outputs": [
    {
     "name": "stdout",
     "output_type": "stream",
     "text": [
      "--2019-11-15 17:49:45--  https://physionet.org/files/sleep-accel/1.0.0/\n",
      "Resolving physionet.org (physionet.org)... 18.13.52.205\n",
      "Connecting to physionet.org (physionet.org)|18.13.52.205|:443... connected.\n",
      "HTTP request sent, awaiting response... 200 OK\n",
      "Length: unspecified [text/html]\n",
      "Saving to: ‘physionet.org/files/sleep-accel/1.0.0/index.html’\n",
      "\n",
      "physionet.org/files     [ <=>                ]     925  --.-KB/s    in 0s      \n",
      "\n",
      "Last-modified header missing -- time-stamps turned off.\n",
      "2019-11-15 17:49:45 (22.6 MB/s) - ‘physionet.org/files/sleep-accel/1.0.0/index.html’ saved [925]\n",
      "\n",
      "Loading robots.txt; please ignore errors.\n",
      "--2019-11-15 17:49:45--  https://physionet.org/robots.txt\n",
      "Reusing existing connection to physionet.org:443.\n",
      "HTTP request sent, awaiting response... 200 OK\n",
      "Length: 22 [text/plain]\n",
      "Saving to: ‘physionet.org/robots.txt’\n",
      "\n",
      "physionet.org/robot 100%[===================>]      22  --.-KB/s    in 0s      \n",
      "\n",
      "2019-11-15 17:49:46 (741 KB/s) - ‘physionet.org/robots.txt’ saved [22/22]\n",
      "\n",
      "--2019-11-15 17:49:46--  https://physionet.org/files/sleep-accel/1.0.0/heart_rate/\n",
      "Reusing existing connection to physionet.org:443.\n",
      "HTTP request sent, awaiting response... 200 OK\n",
      "Length: unspecified [text/html]\n",
      "Saving to: ‘physionet.org/files/sleep-accel/1.0.0/heart_rate/index.html’\n",
      "\n",
      "physionet.org/files     [ <=>                ]   4.06K  --.-KB/s    in 0s      \n",
      "\n",
      "Last-modified header missing -- time-stamps turned off.\n",
      "2019-11-15 17:49:46 (66.2 MB/s) - ‘physionet.org/files/sleep-accel/1.0.0/heart_rate/index.html’ saved [4162]\n",
      "\n",
      "--2019-11-15 17:49:46--  https://physionet.org/files/sleep-accel/1.0.0/labels/\n",
      "Reusing existing connection to physionet.org:443.\n",
      "HTTP request sent, awaiting response... 200 OK\n",
      "Length: unspecified [text/html]\n",
      "Saving to: ‘physionet.org/files/sleep-accel/1.0.0/labels/index.html’\n",
      "\n",
      "physionet.org/files     [ <=>                ]   4.18K  --.-KB/s    in 0s      \n",
      "\n",
      "Last-modified header missing -- time-stamps turned off.\n",
      "2019-11-15 17:49:46 (92.7 MB/s) - ‘physionet.org/files/sleep-accel/1.0.0/labels/index.html’ saved [4278]\n",
      "\n",
      "--2019-11-15 17:49:46--  https://physionet.org/files/sleep-accel/1.0.0/motion/\n",
      "Reusing existing connection to physionet.org:443.\n",
      "HTTP request sent, awaiting response... 200 OK\n",
      "Length: unspecified [text/html]\n",
      "Saving to: ‘physionet.org/files/sleep-accel/1.0.0/motion/index.html’\n",
      "\n",
      "physionet.org/files     [ <=>                ]   4.15K  --.-KB/s    in 0s      \n",
      "\n",
      "Last-modified header missing -- time-stamps turned off.\n",
      "2019-11-15 17:49:47 (88.0 MB/s) - ‘physionet.org/files/sleep-accel/1.0.0/motion/index.html’ saved [4247]\n",
      "\n",
      "--2019-11-15 17:49:47--  https://physionet.org/files/sleep-accel/1.0.0/steps/\n",
      "Reusing existing connection to physionet.org:443.\n",
      "HTTP request sent, awaiting response... 200 OK\n",
      "Length: unspecified [text/html]\n",
      "Saving to: ‘physionet.org/files/sleep-accel/1.0.0/steps/index.html’\n",
      "\n",
      "physionet.org/files     [ <=>                ]   3.93K  --.-KB/s    in 0s      \n",
      "\n",
      "Last-modified header missing -- time-stamps turned off.\n",
      "2019-11-15 17:49:47 (93.7 MB/s) - ‘physionet.org/files/sleep-accel/1.0.0/steps/index.html’ saved [4028]\n",
      "\n",
      "--2019-11-15 17:49:47--  https://physionet.org/files/sleep-accel/1.0.0/LICENSE.txt\n",
      "Reusing existing connection to physionet.org:443.\n",
      "HTTP request sent, awaiting response... 200 OK\n",
      "Length: 20402 (20K) [text/plain]\n",
      "Saving to: ‘physionet.org/files/sleep-accel/1.0.0/LICENSE.txt’\n",
      "\n",
      "physionet.org/files 100%[===================>]  19.92K  --.-KB/s    in 0.002s  \n",
      "\n",
      "2019-11-15 17:49:48 (9.56 MB/s) - ‘physionet.org/files/sleep-accel/1.0.0/LICENSE.txt’ saved [20402/20402]\n",
      "\n",
      "--2019-11-15 17:49:48--  https://physionet.org/files/sleep-accel/1.0.0/SHA256SUMS.txt\n",
      "Reusing existing connection to physionet.org:443.\n",
      "HTTP request sent, awaiting response... "
     ]
    }
   ],
   "source": [
    "!wget -r -N -c -np https://physionet.org/files/sleep-accel/1.0.0/"
   ]
  },
  {
   "cell_type": "code",
   "execution_count": null,
   "metadata": {},
   "outputs": [],
   "source": []
  }
 ],
 "metadata": {
  "kernelspec": {
   "display_name": "Python 3",
   "language": "python",
   "name": "python3"
  },
  "language_info": {
   "codemirror_mode": {
    "name": "ipython",
    "version": 3
   },
   "file_extension": ".py",
   "mimetype": "text/x-python",
   "name": "python",
   "nbconvert_exporter": "python",
   "pygments_lexer": "ipython3",
   "version": "3.7.3"
  }
 },
 "nbformat": 4,
 "nbformat_minor": 2
}
